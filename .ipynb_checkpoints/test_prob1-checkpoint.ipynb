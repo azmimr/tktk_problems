{
 "cells": [
  {
   "cell_type": "markdown",
   "metadata": {},
   "source": [
    "# Assignment\n",
    "Azmi Mohamed Ridwan\n",
    "\n",
    "Email: azmimr@gmail.com\n",
    "\n",
    "## Problem 1a\n",
    "\n",
    "Play a dice game. The dice has 6 faces with number 1 to 6. You are given chance to roll a dice 3 times. Each time you roll, you can either take the number showing as dollars, or roll again. What is your expected winnings. "
   ]
  },
  {
   "cell_type": "markdown",
   "metadata": {},
   "source": [
    "### Solution\n",
    "\n",
    "For an even sided die, all sides are equally probable.\n",
    "\n",
    "The formula for the expected value would be:\n",
    "\n",
    "$EV = \\sum P(X_{i}) * X_{i} $\n",
    "\n",
    "Where $X_{i}$ is the value of the role and $P(X_{i})$ is its probability.\n",
    "\n",
    "The expected value (EV) for the roll of 1 die is then:\n",
    "\n",
    "$EV_{1 die} = 3.5$\n",
    "\n",
    "Let's assume this is the roll for the third die."
   ]
  },
  {
   "cell_type": "markdown",
   "metadata": {},
   "source": [
    "Consider the scenario when on the 2nd roll,\n",
    "\n",
    "To decide on whether to roll the 3rd, it will only be worth it stop only if the roll is higher than the EV for a single roll.\n",
    "\n",
    "I.e. if a roll value is 4,5,6 then we should stop. If the value is 1,2 or 3, then we should take the 3rd roll.\n",
    "\n",
    "So the EV at this point is the combination of the 2 rolls.\n",
    "\n",
    "$EV = EV(Roll\\_less\\_than\\_equal\\_to\\_3) + EV(Greater\\_than\\_3)$\n",
    "\n",
    "$=(\\frac{7}{2})(\\frac{3}{6}) + 4(\\frac{1}{6}) + 5\\frac{1}{6}) + 6(\\frac{1}{6}) $\n",
    "\n",
    "$=4\\frac{1}{4}$\n",
    "\n",
    "The value from the first part of the equation is the EV from the 3rd roll.\n"
   ]
  },
  {
   "cell_type": "markdown",
   "metadata": {},
   "source": [
    "Similar logic follows. I.e. On the first roll, we will stop only if the value is higher than the EV subsequent 2 rolls i.e. $>4\\frac{1}{4}$.\n",
    "\n",
    "This leave only rolls of 5 & 6.\n",
    "\n",
    "The EV is now:\n",
    "\n",
    "$EV = EV(Roll\\_less\\_than\\_equal\\_to\\_4) + EV(Greater\\_than\\_4)$\n",
    "\n",
    "$=(\\frac{17}{4})(\\frac{4}{6}) + 5(\\frac{1}{6}) + 6\\frac{1}{6})$\n",
    "\n",
    "$=4\\frac{2}{3}$\n"
   ]
  },
  {
   "cell_type": "markdown",
   "metadata": {},
   "source": [
    "**Solution**: The expected value for the 3-roll die game is $\\$4\\frac{2}{3}$."
   ]
  },
  {
   "cell_type": "markdown",
   "metadata": {},
   "source": [
    "## Problem 1b\n",
    "Instead of a dice, give a list of numbers range from 1 to N. You are given chance to randomly choose a number from this list M times. Each time you choose, you can either take the number showing as dollars, or choose again. \n",
    "Write a function expected_winnings(N, M), which returns the expected winnings, given N and M. \n"
   ]
  },
  {
   "cell_type": "code",
   "execution_count": 62,
   "metadata": {},
   "outputs": [],
   "source": [
    "# solution\n",
    "import numpy as np\n",
    "def expected_winnings(N,M):\n",
    "    \"\"\"Calculate the expected game for a selection game. The player can randomly draw from the list of numbers up to M times.\n",
    "    At each selection, he can stop and receive the dollar value of the selection or continue drawing.\n",
    "    \n",
    "    N - highest number in list starting from 1\n",
    "    M - Number of rounds\n",
    "    \n",
    "    \"\"\"\n",
    "    \n",
    "    numbers = list(range(1,N+1)) # Generates the list of numbers\n",
    "    print(f\"Numbers are: {numbers}\")\n",
    "    prob_per_number = 1/N\n",
    "    print(f\"Probability of drawing 1 number from this list = {prob_per_number}\")\n",
    "    \n",
    "    # Similar to the working above, the draw will be done in reverse order\"\n",
    "    prev_ev = 0 # Keeps track of the EV from the previous draw\n",
    "    for draw in range(0,M):\n",
    "        print(f\"Draw number= {M-draw}\")\n",
    "\n",
    "        cum_prob = 0 # cumulative probablity\n",
    "        ev = 0 # EV for the current draw \n",
    "        \n",
    "        for num in numbers:\n",
    "            \n",
    "            if num <= prev_ev:\n",
    "                # If the num value is less than the previous ev than the next draw is done\n",
    "                # We accumulate the probabilities for the number falling into here\n",
    "                cum_prob += prob_per_number\n",
    "            else:\n",
    "                # These are the number > the previous EV. We calculate the EV on each value\n",
    "                ev += prob_per_number*num\n",
    "        ev += cum_prob * prev_ev # Add the EV from the next draw (previous loop) \n",
    "        \n",
    "        prev_ev = ev\n",
    "        print(f\"Expected Value = {ev}\")\n",
    "    \n",
    "    return prev_ev\n",
    "    "
   ]
  },
  {
   "cell_type": "code",
   "execution_count": 61,
   "metadata": {},
   "outputs": [
    {
     "name": "stdout",
     "output_type": "stream",
     "text": [
      "Numbers are: [1, 2, 3, 4, 5, 6]\n",
      "Probability of drawing 1 number from this list = 0.16666666666666666\n",
      "Draw number= 3\n",
      "Expected Value = 3.5\n",
      "Draw number= 2\n",
      "Expected Value = 4.25\n",
      "Draw number= 1\n",
      "Expected Value = 4.666666666666666\n",
      "Final EV = $4.67\n"
     ]
    }
   ],
   "source": [
    "# Validate the results from previous\n",
    "print(f\"Final EV = ${expected_winnings(6,3):.2f}\")"
   ]
  }
 ],
 "metadata": {
  "kernelspec": {
   "display_name": "Python [default]",
   "language": "python",
   "name": "python3"
  },
  "language_info": {
   "codemirror_mode": {
    "name": "ipython",
    "version": 3
   },
   "file_extension": ".py",
   "mimetype": "text/x-python",
   "name": "python",
   "nbconvert_exporter": "python",
   "pygments_lexer": "ipython3",
   "version": "3.6.6"
  }
 },
 "nbformat": 4,
 "nbformat_minor": 2
}
